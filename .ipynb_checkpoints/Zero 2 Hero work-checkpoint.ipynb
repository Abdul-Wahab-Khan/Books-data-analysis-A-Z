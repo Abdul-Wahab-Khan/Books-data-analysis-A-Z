{
 "cells": [
  {
   "cell_type": "markdown",
   "id": "13e28e92",
   "metadata": {},
   "source": [
    "# Asalam Alaikum, Hello and welcome to this jupyter notebook"
   ]
  },
  {
   "cell_type": "markdown",
   "id": "085c86a2",
   "metadata": {},
   "source": [
    "### This is some practical work from A - Z (getting data to visualizing the useful insights)"
   ]
  },
  {
   "cell_type": "markdown",
   "id": "d099f804",
   "metadata": {},
   "source": [
    "### I will get you step by step through this project to get you a better understanding of how I have done it"
   ]
  },
  {
   "cell_type": "markdown",
   "id": "e6b4766e",
   "metadata": {},
   "source": [
    "#### This project is based on books information, which I have collected this information from wikipedia website from the link below.\n",
    "#### This process starts with scraping data from wikipedia (List_of_best-selling_books) page, which has some tables containing information about different type of books and other useful information about the books"
   ]
  },
  {
   "cell_type": "markdown",
   "id": "5e285124",
   "metadata": {},
   "source": [
    "### So let's get started"
   ]
  },
  {
   "cell_type": "markdown",
   "id": "c5d73337",
   "metadata": {},
   "source": [
    "#### 1st: we will scrape the data from web source, so we have imported the neccessary libraries, urllib for requesting and getting the html data, and BeautifulSoup for processing the html content. Pandas for data cleaning, analyzing of the data, and numpy for some calculations"
   ]
  },
  {
   "cell_type": "code",
   "execution_count": null,
   "id": "065d1c84",
   "metadata": {},
   "outputs": [],
   "source": [
    "from bs4 import BeautifulSoup\n",
    "from urllib.request import urlopen\n",
    "import pandas as pd\n",
    "import numpy as np"
   ]
  },
  {
   "cell_type": "markdown",
   "id": "d076f5b6",
   "metadata": {},
   "source": [
    "#### we will request to the url"
   ]
  },
  {
   "cell_type": "code",
   "execution_count": null,
   "id": "c8d033a7",
   "metadata": {},
   "outputs": [],
   "source": [
    "url = 'https://en.wikipedia.org/wiki/List_of_best-selling_books'\n",
    "page = urlopen(url)"
   ]
  },
  {
   "cell_type": "code",
   "execution_count": null,
   "id": "804e9c77",
   "metadata": {},
   "outputs": [],
   "source": [
    "html_bytes = page.read()\n",
    "html = html_bytes.decode('utf-8')"
   ]
  },
  {
   "cell_type": "code",
   "execution_count": null,
   "id": "9372717f",
   "metadata": {},
   "outputs": [],
   "source": [
    "start_index = html.find(\"<title>\") + len(\"<title>\")\n",
    "end_index = html.find(\"</title>\")\n",
    "title = html[start_index:end_index]"
   ]
  },
  {
   "cell_type": "code",
   "execution_count": null,
   "id": "d10b1c0b",
   "metadata": {},
   "outputs": [],
   "source": [
    "title"
   ]
  },
  {
   "cell_type": "markdown",
   "id": "d059a06e",
   "metadata": {},
   "source": [
    "#### We will create an object of BeautifulSoup, and parse the html content"
   ]
  },
  {
   "cell_type": "code",
   "execution_count": null,
   "id": "43d82b8b",
   "metadata": {},
   "outputs": [],
   "source": [
    "soup = BeautifulSoup(html, 'html.parser')"
   ]
  },
  {
   "cell_type": "code",
   "execution_count": null,
   "id": "e68b2f38",
   "metadata": {
    "scrolled": true
   },
   "outputs": [],
   "source": [
    "soup"
   ]
  },
  {
   "cell_type": "code",
   "execution_count": null,
   "id": "f62f3ae5",
   "metadata": {},
   "outputs": [],
   "source": [
    "soup.title.text"
   ]
  },
  {
   "cell_type": "code",
   "execution_count": null,
   "id": "bc9a3256",
   "metadata": {},
   "outputs": [],
   "source": [
    "len(soup.select('img'))"
   ]
  },
  {
   "cell_type": "code",
   "execution_count": null,
   "id": "e1c08853",
   "metadata": {},
   "outputs": [],
   "source": [
    "soup.title.string"
   ]
  },
  {
   "cell_type": "code",
   "execution_count": null,
   "id": "9bc85780",
   "metadata": {
    "scrolled": true
   },
   "outputs": [],
   "source": [
    "soup.select('tbody')[0]"
   ]
  },
  {
   "cell_type": "markdown",
   "id": "0282556c",
   "metadata": {},
   "source": [
    "#### As you may see we can use the BeautifulSoup object to navigate through html elements so easily, and get attributes and content of the element"
   ]
  },
  {
   "cell_type": "markdown",
   "id": "59ba3f73",
   "metadata": {},
   "source": [
    "#### Now that we have scraped and parsed the data, the problem is that the data is so dirty. So, we should clean it first. first of all we will start getting the data from html tables and combine them and then eliminatethe \\n from whole data. we will start with cleaning and chaging the data to pandas DataFrame object"
   ]
  },
  {
   "cell_type": "code",
   "execution_count": null,
   "id": "0053e51a",
   "metadata": {},
   "outputs": [],
   "source": [
    "def splitSlashN(i):\n",
    "    return i.split('\\n')[0]"
   ]
  },
  {
   "cell_type": "code",
   "execution_count": null,
   "id": "e7e20a95",
   "metadata": {
    "scrolled": true
   },
   "outputs": [],
   "source": [
    "def getTableHeader(table):\n",
    "    headings = []\n",
    "    for th in table.tr:\n",
    "        headings.append(th.text)\n",
    "\n",
    "    try:\n",
    "        while 1==1:\n",
    "            headings.remove('\\n')\n",
    "    except:\n",
    "        pass\n",
    "\n",
    "    headings = list(map(splitSlashN, headings))\n",
    "    \n",
    "    return headings"
   ]
  },
  {
   "cell_type": "markdown",
   "id": "400ce3d9",
   "metadata": {},
   "source": [
    "#### In here we have the method to get table's data and combine the whole data because the data were fetched in many tables and we should combine all of them"
   ]
  },
  {
   "cell_type": "code",
   "execution_count": null,
   "id": "5dc4d092",
   "metadata": {},
   "outputs": [],
   "source": [
    "def getTableData(table):\n",
    "    table_data = []\n",
    "    table_header = getTableHeader(table)\n",
    "\n",
    "    for row in table.findAll('tr'):\n",
    "        row_data = []    \n",
    "\n",
    "        for cell in row.findAll('td'):\n",
    "            row_data.append(cell.text)  \n",
    "\n",
    "        if(len(row_data) > 0):\n",
    "            data_item = {\"Book\": row_data[0],\n",
    "                     \"Author(s)\": row_data[1],\n",
    "                     \"Original language\": row_data[2]\n",
    "            }\n",
    "            \n",
    "            i = 3;\n",
    "            \n",
    "            if (('No. of installments' in table_header or 'No. of instalments' in table_header) and row_data[i] != None):\n",
    "                data_item['No. of installments'] = row_data[i];\n",
    "                i = i + 1\n",
    "            else:\n",
    "                data_item['No. of installments'] = None\n",
    "                \n",
    "            data_item[\"First published\"] = row_data[i] if row_data[i] != None else None\n",
    "            i = i + 1\n",
    "            data_item[\"Approximate sales\"] = row_data[i] if row_data[i] != None else None\n",
    "            i = i + 1\n",
    "            \n",
    "            try:\n",
    "                if ('Genre' in table_header):\n",
    "                    if (row_data[i] != None):\n",
    "                        data_item[\"Genre\"] = row_data[i]\n",
    "                    else:\n",
    "                        data_item['Genre'] = None\n",
    "                else:\n",
    "                    data_item['Genre'] = None\n",
    "            except:\n",
    "                data_item['Genre'] = None\n",
    "            \n",
    "            \n",
    "            table_data.append(data_item)\n",
    "                \n",
    "    return table_data"
   ]
  },
  {
   "cell_type": "code",
   "execution_count": null,
   "id": "d297cb96",
   "metadata": {},
   "outputs": [],
   "source": [
    "book_tables = soup.findAll('tbody')\n",
    "book_tables.pop()\n",
    "len(book_tables)"
   ]
  },
  {
   "cell_type": "markdown",
   "id": "6eaec8a7",
   "metadata": {},
   "source": [
    "#### we will call the getTableData method to get every html table's data"
   ]
  },
  {
   "cell_type": "code",
   "execution_count": null,
   "id": "a8483dd9",
   "metadata": {
    "scrolled": true
   },
   "outputs": [],
   "source": [
    "all_books = []\n",
    "\n",
    "for table in book_tables:\n",
    "    all_books.append(getTableData(table))"
   ]
  },
  {
   "cell_type": "code",
   "execution_count": null,
   "id": "2e99048f",
   "metadata": {},
   "outputs": [],
   "source": [
    "all_books[7]"
   ]
  },
  {
   "cell_type": "markdown",
   "id": "4c549923",
   "metadata": {},
   "source": [
    "#### We will convert the python list (which is populated with all of the data from html table's) into pandas DataFrame"
   ]
  },
  {
   "cell_type": "code",
   "execution_count": 370,
   "id": "97d58ed8",
   "metadata": {
    "scrolled": true
   },
   "outputs": [
    {
     "data": {
      "text/html": [
       "<div>\n",
       "<style scoped>\n",
       "    .dataframe tbody tr th:only-of-type {\n",
       "        vertical-align: middle;\n",
       "    }\n",
       "\n",
       "    .dataframe tbody tr th {\n",
       "        vertical-align: top;\n",
       "    }\n",
       "\n",
       "    .dataframe thead th {\n",
       "        text-align: right;\n",
       "    }\n",
       "</style>\n",
       "<table border=\"1\" class=\"dataframe\">\n",
       "  <thead>\n",
       "    <tr style=\"text-align: right;\">\n",
       "      <th></th>\n",
       "      <th>Book</th>\n",
       "      <th>Author(s)</th>\n",
       "      <th>Original language</th>\n",
       "      <th>No. of installments</th>\n",
       "      <th>First published</th>\n",
       "      <th>Approximate sales</th>\n",
       "      <th>Genre</th>\n",
       "    </tr>\n",
       "  </thead>\n",
       "  <tbody>\n",
       "    <tr>\n",
       "      <th>0</th>\n",
       "      <td>A Tale of Two Cities</td>\n",
       "      <td>Charles Dickens</td>\n",
       "      <td>English</td>\n",
       "      <td>None</td>\n",
       "      <td>1859</td>\n",
       "      <td>200 million[19][circular reporting?]\\n</td>\n",
       "      <td>Historical fiction\\n</td>\n",
       "    </tr>\n",
       "    <tr>\n",
       "      <th>1</th>\n",
       "      <td>The Little Prince (Le Petit Prince)</td>\n",
       "      <td>Antoine de Saint-Exupéry</td>\n",
       "      <td>French</td>\n",
       "      <td>None</td>\n",
       "      <td>1943</td>\n",
       "      <td>200 million[20][21]\\n</td>\n",
       "      <td>Novella\\n</td>\n",
       "    </tr>\n",
       "    <tr>\n",
       "      <th>2</th>\n",
       "      <td>Harry Potter and the Philosopher's Stone</td>\n",
       "      <td>J. K. Rowling</td>\n",
       "      <td>English</td>\n",
       "      <td>None</td>\n",
       "      <td>1997</td>\n",
       "      <td>120 million[22][23]\\n</td>\n",
       "      <td>Fantasy\\n</td>\n",
       "    </tr>\n",
       "    <tr>\n",
       "      <th>3</th>\n",
       "      <td>And Then There Were None</td>\n",
       "      <td>Agatha Christie</td>\n",
       "      <td>English</td>\n",
       "      <td>None</td>\n",
       "      <td>1939</td>\n",
       "      <td>100 million[24]\\n</td>\n",
       "      <td>Mystery\\n</td>\n",
       "    </tr>\n",
       "    <tr>\n",
       "      <th>4</th>\n",
       "      <td>Dream of the Red Chamber (紅樓夢)</td>\n",
       "      <td>Cao Xueqin</td>\n",
       "      <td>Chinese</td>\n",
       "      <td>None</td>\n",
       "      <td>1791</td>\n",
       "      <td>100 million[25][26]\\n</td>\n",
       "      <td>Family saga\\n</td>\n",
       "    </tr>\n",
       "    <tr>\n",
       "      <th>...</th>\n",
       "      <td>...</td>\n",
       "      <td>...</td>\n",
       "      <td>...</td>\n",
       "      <td>...</td>\n",
       "      <td>...</td>\n",
       "      <td>...</td>\n",
       "      <td>...</td>\n",
       "    </tr>\n",
       "    <tr>\n",
       "      <th>323</th>\n",
       "      <td>旺文社古語辞典 (Obunsha Kogo Jiten) \"Obunsha Dictiona...</td>\n",
       "      <td>Akira Matsumura</td>\n",
       "      <td>Japanese</td>\n",
       "      <td>None</td>\n",
       "      <td>1960</td>\n",
       "      <td>11 million[352]\\n</td>\n",
       "      <td>None</td>\n",
       "    </tr>\n",
       "    <tr>\n",
       "      <th>324</th>\n",
       "      <td>Hammond's Pocket Atlas\\n</td>\n",
       "      <td>\\n</td>\n",
       "      <td>English\\n</td>\n",
       "      <td>None</td>\n",
       "      <td>(Up to 1965)\\n</td>\n",
       "      <td>11 million[353]\\n</td>\n",
       "      <td>None</td>\n",
       "    </tr>\n",
       "    <tr>\n",
       "      <th>325</th>\n",
       "      <td>三省堂国語辞典 (Sanseido Kokugo Jiten) \"Sanseido Dict...</td>\n",
       "      <td>Kenbō Hidetoshi</td>\n",
       "      <td>Japanese</td>\n",
       "      <td>None</td>\n",
       "      <td>1960</td>\n",
       "      <td>10 million[354]\\n</td>\n",
       "      <td>None</td>\n",
       "    </tr>\n",
       "    <tr>\n",
       "      <th>326</th>\n",
       "      <td>家庭に於ける実際的看護の秘訣 (Katei Ni Okeru Jissaiteki Kang...</td>\n",
       "      <td>Takichi Tsukuda</td>\n",
       "      <td>Japanese</td>\n",
       "      <td>None</td>\n",
       "      <td>1925</td>\n",
       "      <td>10 million[355]\\n</td>\n",
       "      <td>None</td>\n",
       "    </tr>\n",
       "    <tr>\n",
       "      <th>327</th>\n",
       "      <td>C程序设计 (C Program Design)</td>\n",
       "      <td>Tan, Haoqiang</td>\n",
       "      <td>Chinese</td>\n",
       "      <td>None</td>\n",
       "      <td>1991</td>\n",
       "      <td>10 million[356]\\n</td>\n",
       "      <td>None</td>\n",
       "    </tr>\n",
       "  </tbody>\n",
       "</table>\n",
       "<p>328 rows × 7 columns</p>\n",
       "</div>"
      ],
      "text/plain": [
       "                                                  Book  \\\n",
       "0                                 A Tale of Two Cities   \n",
       "1                  The Little Prince (Le Petit Prince)   \n",
       "2             Harry Potter and the Philosopher's Stone   \n",
       "3                             And Then There Were None   \n",
       "4                       Dream of the Red Chamber (紅樓夢)   \n",
       "..                                                 ...   \n",
       "323  旺文社古語辞典 (Obunsha Kogo Jiten) \"Obunsha Dictiona...   \n",
       "324                           Hammond's Pocket Atlas\\n   \n",
       "325  三省堂国語辞典 (Sanseido Kokugo Jiten) \"Sanseido Dict...   \n",
       "326  家庭に於ける実際的看護の秘訣 (Katei Ni Okeru Jissaiteki Kang...   \n",
       "327                           C程序设计 (C Program Design)   \n",
       "\n",
       "                    Author(s) Original language No. of installments  \\\n",
       "0             Charles Dickens           English                None   \n",
       "1    Antoine de Saint-Exupéry            French                None   \n",
       "2               J. K. Rowling           English                None   \n",
       "3             Agatha Christie           English                None   \n",
       "4                  Cao Xueqin           Chinese                None   \n",
       "..                        ...               ...                 ...   \n",
       "323           Akira Matsumura          Japanese                None   \n",
       "324                        \\n         English\\n                None   \n",
       "325           Kenbō Hidetoshi          Japanese                None   \n",
       "326           Takichi Tsukuda          Japanese                None   \n",
       "327             Tan, Haoqiang           Chinese                None   \n",
       "\n",
       "    First published                       Approximate sales  \\\n",
       "0              1859  200 million[19][circular reporting?]\\n   \n",
       "1              1943                   200 million[20][21]\\n   \n",
       "2              1997                   120 million[22][23]\\n   \n",
       "3              1939                       100 million[24]\\n   \n",
       "4              1791                   100 million[25][26]\\n   \n",
       "..              ...                                     ...   \n",
       "323            1960                       11 million[352]\\n   \n",
       "324  (Up to 1965)\\n                       11 million[353]\\n   \n",
       "325            1960                       10 million[354]\\n   \n",
       "326            1925                       10 million[355]\\n   \n",
       "327            1991                       10 million[356]\\n   \n",
       "\n",
       "                    Genre  \n",
       "0    Historical fiction\\n  \n",
       "1               Novella\\n  \n",
       "2               Fantasy\\n  \n",
       "3               Mystery\\n  \n",
       "4           Family saga\\n  \n",
       "..                    ...  \n",
       "323                  None  \n",
       "324                  None  \n",
       "325                  None  \n",
       "326                  None  \n",
       "327                  None  \n",
       "\n",
       "[328 rows x 7 columns]"
      ]
     },
     "execution_count": 370,
     "metadata": {},
     "output_type": "execute_result"
    }
   ],
   "source": [
    "books_df = pd.DataFrame()\n",
    "\n",
    "for table in all_books:\n",
    "    table = pd.DataFrame(table)\n",
    "    books_df = pd.concat([books_df, table]).reset_index(drop=True)\n",
    "    \n",
    "books_df"
   ]
  },
  {
   "cell_type": "markdown",
   "id": "680d0fcc",
   "metadata": {},
   "source": [
    "#### We will eliminate the \\n, as its visible all over the dataset "
   ]
  },
  {
   "cell_type": "code",
   "execution_count": 371,
   "id": "9b60eb68",
   "metadata": {
    "scrolled": true
   },
   "outputs": [],
   "source": [
    "def cleanColumnsSlashN(value):\n",
    "    if (value is not None):\n",
    "        return value.split('\\n')[0]\n",
    "    \n",
    "    return None\n",
    "\n",
    "books_df['Book'] = books_df['Book'].apply(lambda x: cleanColumnsSlashN(x))\n",
    "books_df['Author(s)'] = books_df['Author(s)'].apply(lambda x: cleanColumnsSlashN(x))\n",
    "books_df['Original language'] = books_df['Original language'].apply(lambda x: cleanColumnsSlashN(x))\n",
    "books_df['No. of installments'] = books_df['No. of installments'].apply(lambda x: cleanColumnsSlashN(x))\n",
    "books_df['First published'] = books_df['First published'].apply(lambda x: cleanColumnsSlashN(x))\n",
    "books_df['Approximate sales'] = books_df['Approximate sales'].apply(lambda x: cleanColumnsSlashN(x))\n",
    "books_df['Genre'] = books_df['Genre'].apply(lambda x:cleanColumnsSlashN(x))"
   ]
  },
  {
   "cell_type": "markdown",
   "id": "4b5aac00",
   "metadata": {},
   "source": [
    "#### We will now create some useful functions to elimiate extra characters and to remain only the number in Approximate sales column so that we can work with numbers easily in analysis"
   ]
  },
  {
   "cell_type": "code",
   "execution_count": 372,
   "id": "570fd444",
   "metadata": {},
   "outputs": [],
   "source": [
    "def getSaleAmount(sale):\n",
    "    if (sale is not None):\n",
    "        s = sale.split(' ')\n",
    "        if (s[0][0].isdigit() or s[0][0] == '>'):\n",
    "            return s[0]\n",
    "        elif (s[1][0].isdigit()):\n",
    "            return s[1]\n",
    "        elif (s[2][0].isdigit()):\n",
    "            return s[2]\n",
    "        \n",
    "    return None\n",
    "\n",
    "def removeExtraCharacters(sale):\n",
    "    if (sale is not None):\n",
    "        s = sale.split('>')\n",
    "        if (len(s) > 1):\n",
    "            return s[1]\n",
    "        return sale\n",
    "    return None\n",
    "\n",
    "def removeExtraBrackets(sale):\n",
    "    if (sale is not None):\n",
    "        s = sale.split('[')\n",
    "        return s[0]\n",
    "    return None\n",
    "\n",
    "def removeDashFromSale(sale):\n",
    "    if (sale is not None):\n",
    "        s = sale.split('–')\n",
    "        if(len(s) > 1):\n",
    "            s = list([pd.to_numeric(s[0]), pd.to_numeric(s[1])])\n",
    "            sales = (s[1] + s[0])/2;\n",
    "            return sales\n",
    "        else:\n",
    "            return sale \n",
    "    return None"
   ]
  },
  {
   "cell_type": "code",
   "execution_count": 373,
   "id": "65877b2f",
   "metadata": {},
   "outputs": [],
   "source": [
    "books_df['Approximate sales'] = books_df['Approximate sales'].apply(lambda x: getSaleAmount(x)) "
   ]
  },
  {
   "cell_type": "code",
   "execution_count": 374,
   "id": "63e83552",
   "metadata": {
    "scrolled": true
   },
   "outputs": [],
   "source": [
    "books_df['Approximate sales'] = books_df['Approximate sales'].apply(lambda x: removeExtraCharacters(x)) "
   ]
  },
  {
   "cell_type": "code",
   "execution_count": 375,
   "id": "9e5147ad",
   "metadata": {},
   "outputs": [],
   "source": [
    "books_df['Approximate sales'] = books_df['Approximate sales'].apply(lambda x: removeExtraBrackets(x)) "
   ]
  },
  {
   "cell_type": "code",
   "execution_count": 376,
   "id": "6686615f",
   "metadata": {
    "scrolled": true
   },
   "outputs": [],
   "source": [
    "books_df['Approximate sales'] = books_df['Approximate sales'].apply(lambda x: removeDashFromSale(x)) "
   ]
  },
  {
   "cell_type": "code",
   "execution_count": 377,
   "id": "a42d7194",
   "metadata": {
    "scrolled": true
   },
   "outputs": [],
   "source": [
    "books_df['Approximate sales'] = pd.to_numeric(books_df['Approximate sales'])"
   ]
  },
  {
   "cell_type": "markdown",
   "id": "84dfc084",
   "metadata": {},
   "source": [
    "#### Now we have eliminated the extra charaters from Approximate sales column and coverted it to numeric"
   ]
  },
  {
   "cell_type": "code",
   "execution_count": 378,
   "id": "0b6d6a7f",
   "metadata": {},
   "outputs": [
    {
     "data": {
      "text/plain": [
       "Book                     Scouting for Boys\n",
       "Author(s)              Robert Baden-Powell\n",
       "Original language                  English\n",
       "No. of installments                   None\n",
       "First published                       1908\n",
       "Approximate sales                    125.0\n",
       "Genre                                 None\n",
       "Name: 296, dtype: object"
      ]
     },
     "execution_count": 378,
     "metadata": {},
     "output_type": "execute_result"
    }
   ],
   "source": [
    "books_df.loc[296]"
   ]
  },
  {
   "cell_type": "code",
   "execution_count": null,
   "id": "91f5fe0d",
   "metadata": {
    "scrolled": true
   },
   "outputs": [],
   "source": [
    "books_df.loc[300:340]"
   ]
  },
  {
   "cell_type": "code",
   "execution_count": null,
   "id": "3fb894b4",
   "metadata": {},
   "outputs": [],
   "source": [
    "books_df.describe()"
   ]
  },
  {
   "cell_type": "markdown",
   "id": "9341f7ce",
   "metadata": {},
   "source": [
    "#### We will create a new column as for every book it has a specific type, as you can see it in the website it self"
   ]
  },
  {
   "cell_type": "code",
   "execution_count": 379,
   "id": "08865f98",
   "metadata": {},
   "outputs": [],
   "source": [
    "books_df['Book type'] = None"
   ]
  },
  {
   "cell_type": "code",
   "execution_count": 380,
   "id": "39e8bcb6",
   "metadata": {},
   "outputs": [
    {
     "name": "stderr",
     "output_type": "stream",
     "text": [
      "C:\\Users\\abwah\\anaconda3\\lib\\site-packages\\pandas\\core\\indexing.py:1732: SettingWithCopyWarning: \n",
      "A value is trying to be set on a copy of a slice from a DataFrame\n",
      "\n",
      "See the caveats in the documentation: https://pandas.pydata.org/pandas-docs/stable/user_guide/indexing.html#returning-a-view-versus-a-copy\n",
      "  self._setitem_single_block(indexer, value, name)\n"
     ]
    }
   ],
   "source": [
    "books_df['Book type'].loc[0:172] = 'Individual'"
   ]
  },
  {
   "cell_type": "code",
   "execution_count": 382,
   "id": "a34fc9e0",
   "metadata": {},
   "outputs": [],
   "source": [
    "books_df['Book type'].loc[173:294] = 'Series'"
   ]
  },
  {
   "cell_type": "code",
   "execution_count": 384,
   "id": "9913a835",
   "metadata": {},
   "outputs": [
    {
     "name": "stderr",
     "output_type": "stream",
     "text": [
      "C:\\Users\\abwah\\anaconda3\\lib\\site-packages\\pandas\\core\\indexing.py:1732: SettingWithCopyWarning: \n",
      "A value is trying to be set on a copy of a slice from a DataFrame\n",
      "\n",
      "See the caveats in the documentation: https://pandas.pydata.org/pandas-docs/stable/user_guide/indexing.html#returning-a-view-versus-a-copy\n",
      "  self._setitem_single_block(indexer, value, name)\n"
     ]
    }
   ],
   "source": [
    "books_df['Book type'].loc[295:] = 'Regularly Updated'"
   ]
  },
  {
   "cell_type": "code",
   "execution_count": 361,
   "id": "a21a0aec",
   "metadata": {},
   "outputs": [
    {
     "data": {
      "text/html": [
       "<div>\n",
       "<style scoped>\n",
       "    .dataframe tbody tr th:only-of-type {\n",
       "        vertical-align: middle;\n",
       "    }\n",
       "\n",
       "    .dataframe tbody tr th {\n",
       "        vertical-align: top;\n",
       "    }\n",
       "\n",
       "    .dataframe thead th {\n",
       "        text-align: right;\n",
       "    }\n",
       "</style>\n",
       "<table border=\"1\" class=\"dataframe\">\n",
       "  <thead>\n",
       "    <tr style=\"text-align: right;\">\n",
       "      <th></th>\n",
       "      <th>Book</th>\n",
       "      <th>Author(s)</th>\n",
       "      <th>Original language</th>\n",
       "      <th>No. of installments</th>\n",
       "      <th>First published</th>\n",
       "      <th>Approximate sales</th>\n",
       "      <th>Genre</th>\n",
       "      <th>Book type</th>\n",
       "    </tr>\n",
       "  </thead>\n",
       "  <tbody>\n",
       "    <tr>\n",
       "      <th>267</th>\n",
       "      <td>Découvertes Gallimard</td>\n",
       "      <td>Various authors</td>\n",
       "      <td>French</td>\n",
       "      <td>more than 700</td>\n",
       "      <td>1986–present</td>\n",
       "      <td>20.00</td>\n",
       "      <td>None</td>\n",
       "      <td>Series</td>\n",
       "    </tr>\n",
       "    <tr>\n",
       "      <th>211</th>\n",
       "      <td>Anpanman (アンパンマン)</td>\n",
       "      <td>Takashi Yanase</td>\n",
       "      <td>Japanese</td>\n",
       "      <td>150 picture books</td>\n",
       "      <td>1973–2013</td>\n",
       "      <td>80.00</td>\n",
       "      <td>None</td>\n",
       "      <td>Series</td>\n",
       "    </tr>\n",
       "    <tr>\n",
       "      <th>101</th>\n",
       "      <td>The Secret</td>\n",
       "      <td>Rhonda Byrne</td>\n",
       "      <td>English</td>\n",
       "      <td>None</td>\n",
       "      <td>2006</td>\n",
       "      <td>20.00</td>\n",
       "      <td>Self-help</td>\n",
       "      <td>Individual</td>\n",
       "    </tr>\n",
       "    <tr>\n",
       "      <th>285</th>\n",
       "      <td>吸血鬼ハンターD (Vampire Hunter D)</td>\n",
       "      <td>Hideyuki Kikuchi</td>\n",
       "      <td>Japanese</td>\n",
       "      <td>39</td>\n",
       "      <td>1983–present</td>\n",
       "      <td>17.00</td>\n",
       "      <td>None</td>\n",
       "      <td>Series</td>\n",
       "    </tr>\n",
       "    <tr>\n",
       "      <th>129</th>\n",
       "      <td>A Wrinkle in Time</td>\n",
       "      <td>Madeleine L'Engle</td>\n",
       "      <td>English</td>\n",
       "      <td>None</td>\n",
       "      <td>1962</td>\n",
       "      <td>14.00</td>\n",
       "      <td>None</td>\n",
       "      <td>Individual</td>\n",
       "    </tr>\n",
       "    <tr>\n",
       "      <th>312</th>\n",
       "      <td>自由自在 (Jiyu Jizai)</td>\n",
       "      <td>Various authors</td>\n",
       "      <td>Japanese</td>\n",
       "      <td>None</td>\n",
       "      <td>1953–present</td>\n",
       "      <td>24.00</td>\n",
       "      <td>None</td>\n",
       "      <td>Regularly Updated</td>\n",
       "    </tr>\n",
       "    <tr>\n",
       "      <th>68</th>\n",
       "      <td>The Wind in the Willows</td>\n",
       "      <td>Kenneth Grahame</td>\n",
       "      <td>English</td>\n",
       "      <td>None</td>\n",
       "      <td>1908</td>\n",
       "      <td>25.00</td>\n",
       "      <td>Children's literature</td>\n",
       "      <td>Individual</td>\n",
       "    </tr>\n",
       "    <tr>\n",
       "      <th>319</th>\n",
       "      <td>Merriam-Webster Pocket Dictionary</td>\n",
       "      <td></td>\n",
       "      <td>English</td>\n",
       "      <td>None</td>\n",
       "      <td>(Up to 1965)</td>\n",
       "      <td>15.11</td>\n",
       "      <td>None</td>\n",
       "      <td>Regularly Updated</td>\n",
       "    </tr>\n",
       "    <tr>\n",
       "      <th>125</th>\n",
       "      <td>The Hitchhiker's Guide to the Galaxy</td>\n",
       "      <td>Douglas Adams</td>\n",
       "      <td>English</td>\n",
       "      <td>None</td>\n",
       "      <td>1979</td>\n",
       "      <td>14.00</td>\n",
       "      <td>Science fiction</td>\n",
       "      <td>Individual</td>\n",
       "    </tr>\n",
       "    <tr>\n",
       "      <th>172</th>\n",
       "      <td>Bridget Jones's Diary</td>\n",
       "      <td>Helen Fielding</td>\n",
       "      <td>English</td>\n",
       "      <td>None</td>\n",
       "      <td>1996</td>\n",
       "      <td>10.00</td>\n",
       "      <td></td>\n",
       "      <td>Individual</td>\n",
       "    </tr>\n",
       "  </tbody>\n",
       "</table>\n",
       "</div>"
      ],
      "text/plain": [
       "                                     Book          Author(s)  \\\n",
       "267                 Découvertes Gallimard    Various authors   \n",
       "211                     Anpanman (アンパンマン)     Takashi Yanase   \n",
       "101                            The Secret       Rhonda Byrne   \n",
       "285           吸血鬼ハンターD (Vampire Hunter D)   Hideyuki Kikuchi   \n",
       "129                     A Wrinkle in Time  Madeleine L'Engle   \n",
       "312                     自由自在 (Jiyu Jizai)    Various authors   \n",
       "68                The Wind in the Willows    Kenneth Grahame   \n",
       "319     Merriam-Webster Pocket Dictionary                      \n",
       "125  The Hitchhiker's Guide to the Galaxy      Douglas Adams   \n",
       "172                 Bridget Jones's Diary     Helen Fielding   \n",
       "\n",
       "    Original language No. of installments First published  Approximate sales  \\\n",
       "267            French       more than 700    1986–present              20.00   \n",
       "211          Japanese   150 picture books       1973–2013              80.00   \n",
       "101           English                None            2006              20.00   \n",
       "285          Japanese                  39    1983–present              17.00   \n",
       "129           English                None            1962              14.00   \n",
       "312          Japanese                None    1953–present              24.00   \n",
       "68            English                None            1908              25.00   \n",
       "319           English                None    (Up to 1965)              15.11   \n",
       "125           English                None            1979              14.00   \n",
       "172           English                None            1996              10.00   \n",
       "\n",
       "                     Genre          Book type  \n",
       "267                   None             Series  \n",
       "211                   None             Series  \n",
       "101              Self-help         Individual  \n",
       "285                   None             Series  \n",
       "129                   None         Individual  \n",
       "312                   None  Regularly Updated  \n",
       "68   Children's literature         Individual  \n",
       "319                   None  Regularly Updated  \n",
       "125        Science fiction         Individual  \n",
       "172                                Individual  "
      ]
     },
     "execution_count": 361,
     "metadata": {},
     "output_type": "execute_result"
    }
   ],
   "source": [
    "books_df.sample(10)"
   ]
  },
  {
   "cell_type": "markdown",
   "id": "f9535620",
   "metadata": {},
   "source": [
    "#### Its time to start working on date column, we will start with creating one more column (Last published) to cut the extra part of first published and make it easier to convert it to date, and we will take the other half of the first published and store it in newly created to column for future uses"
   ]
  },
  {
   "cell_type": "code",
   "execution_count": 385,
   "id": "5875b5ec",
   "metadata": {},
   "outputs": [],
   "source": [
    "def getLastPublishing(date):\n",
    "    if (date is not None):\n",
    "        d = date.split('–')\n",
    "        if (len(d) > 1):\n",
    "            return d[1]\n",
    "        \n",
    "    return None"
   ]
  },
  {
   "cell_type": "code",
   "execution_count": 386,
   "id": "cdae81f7",
   "metadata": {},
   "outputs": [],
   "source": [
    "books_df['Last published'] = books_df['First published'].apply(lambda x: getLastPublishing(x))"
   ]
  },
  {
   "cell_type": "code",
   "execution_count": 387,
   "id": "b032a5e9",
   "metadata": {},
   "outputs": [],
   "source": [
    "def getFirstPublishing(date):\n",
    "    if (date is not None):\n",
    "        d = date.split('–')\n",
    "        return d[0]\n",
    "        \n",
    "    return None"
   ]
  },
  {
   "cell_type": "code",
   "execution_count": 388,
   "id": "b4857a57",
   "metadata": {},
   "outputs": [],
   "source": [
    "books_df['First published'] = books_df['First published'].apply(lambda x: getFirstPublishing(x))"
   ]
  },
  {
   "cell_type": "code",
   "execution_count": 397,
   "id": "0321a8ef",
   "metadata": {
    "scrolled": true
   },
   "outputs": [
    {
     "name": "stderr",
     "output_type": "stream",
     "text": [
      "C:\\Users\\abwah\\anaconda3\\lib\\site-packages\\pandas\\core\\indexing.py:1732: SettingWithCopyWarning: \n",
      "A value is trying to be set on a copy of a slice from a DataFrame\n",
      "\n",
      "See the caveats in the documentation: https://pandas.pydata.org/pandas-docs/stable/user_guide/indexing.html#returning-a-view-versus-a-copy\n",
      "  self._setitem_single_block(indexer, value, name)\n"
     ]
    }
   ],
   "source": [
    "books_df['First published'].loc[319] = '1965'\n",
    "books_df['First published'].loc[324] = '1965'"
   ]
  },
  {
   "cell_type": "code",
   "execution_count": 398,
   "id": "9436c9ee",
   "metadata": {},
   "outputs": [
    {
     "data": {
      "text/html": [
       "<div>\n",
       "<style scoped>\n",
       "    .dataframe tbody tr th:only-of-type {\n",
       "        vertical-align: middle;\n",
       "    }\n",
       "\n",
       "    .dataframe tbody tr th {\n",
       "        vertical-align: top;\n",
       "    }\n",
       "\n",
       "    .dataframe thead th {\n",
       "        text-align: right;\n",
       "    }\n",
       "</style>\n",
       "<table border=\"1\" class=\"dataframe\">\n",
       "  <thead>\n",
       "    <tr style=\"text-align: right;\">\n",
       "      <th></th>\n",
       "      <th>Book</th>\n",
       "      <th>Author(s)</th>\n",
       "      <th>Original language</th>\n",
       "      <th>No. of installments</th>\n",
       "      <th>First published</th>\n",
       "      <th>Approximate sales</th>\n",
       "      <th>Genre</th>\n",
       "      <th>Book type</th>\n",
       "      <th>Last published</th>\n",
       "    </tr>\n",
       "  </thead>\n",
       "  <tbody>\n",
       "  </tbody>\n",
       "</table>\n",
       "</div>"
      ],
      "text/plain": [
       "Empty DataFrame\n",
       "Columns: [Book, Author(s), Original language, No. of installments, First published, Approximate sales, Genre, Book type, Last published]\n",
       "Index: []"
      ]
     },
     "execution_count": 398,
     "metadata": {},
     "output_type": "execute_result"
    }
   ],
   "source": [
    "books_df[books_df['First published'].str.contains('Up to')]"
   ]
  },
  {
   "cell_type": "code",
   "execution_count": 343,
   "id": "9ad8d091",
   "metadata": {},
   "outputs": [
    {
     "data": {
      "text/html": [
       "<div>\n",
       "<style scoped>\n",
       "    .dataframe tbody tr th:only-of-type {\n",
       "        vertical-align: middle;\n",
       "    }\n",
       "\n",
       "    .dataframe tbody tr th {\n",
       "        vertical-align: top;\n",
       "    }\n",
       "\n",
       "    .dataframe thead th {\n",
       "        text-align: right;\n",
       "    }\n",
       "</style>\n",
       "<table border=\"1\" class=\"dataframe\">\n",
       "  <thead>\n",
       "    <tr style=\"text-align: right;\">\n",
       "      <th></th>\n",
       "      <th>Book</th>\n",
       "      <th>Author(s)</th>\n",
       "      <th>Original language</th>\n",
       "      <th>No. of installments</th>\n",
       "      <th>First published</th>\n",
       "      <th>Approximate sales</th>\n",
       "      <th>Genre</th>\n",
       "      <th>Book type</th>\n",
       "      <th>Last published</th>\n",
       "    </tr>\n",
       "  </thead>\n",
       "  <tbody>\n",
       "  </tbody>\n",
       "</table>\n",
       "</div>"
      ],
      "text/plain": [
       "Empty DataFrame\n",
       "Columns: [Book, Author(s), Original language, No. of installments, First published, Approximate sales, Genre, Book type, Last published]\n",
       "Index: []"
      ]
     },
     "execution_count": 343,
     "metadata": {},
     "output_type": "execute_result"
    }
   ],
   "source": [
    "books_df[books_df['First published'].str.contains('Up to')]"
   ]
  },
  {
   "cell_type": "code",
   "execution_count": 402,
   "id": "cfc1af93",
   "metadata": {},
   "outputs": [
    {
     "name": "stderr",
     "output_type": "stream",
     "text": [
      "C:\\Users\\abwah\\anaconda3\\lib\\site-packages\\pandas\\core\\indexing.py:1732: SettingWithCopyWarning: \n",
      "A value is trying to be set on a copy of a slice from a DataFrame\n",
      "\n",
      "See the caveats in the documentation: https://pandas.pydata.org/pandas-docs/stable/user_guide/indexing.html#returning-a-view-versus-a-copy\n",
      "  self._setitem_single_block(indexer, value, name)\n"
     ]
    }
   ],
   "source": [
    "books_df['First published'].loc[303] = books_df['First published'].loc[303].split('(')[0]"
   ]
  },
  {
   "cell_type": "code",
   "execution_count": 409,
   "id": "6c39a153",
   "metadata": {
    "scrolled": true
   },
   "outputs": [],
   "source": [
    "books_df['First published'] = pd.to_datetime(books_df['First published'], errors='ignore')"
   ]
  },
  {
   "cell_type": "code",
   "execution_count": 413,
   "id": "076acac2",
   "metadata": {
    "scrolled": true
   },
   "outputs": [
    {
     "data": {
      "text/html": [
       "<div>\n",
       "<style scoped>\n",
       "    .dataframe tbody tr th:only-of-type {\n",
       "        vertical-align: middle;\n",
       "    }\n",
       "\n",
       "    .dataframe tbody tr th {\n",
       "        vertical-align: top;\n",
       "    }\n",
       "\n",
       "    .dataframe thead th {\n",
       "        text-align: right;\n",
       "    }\n",
       "</style>\n",
       "<table border=\"1\" class=\"dataframe\">\n",
       "  <thead>\n",
       "    <tr style=\"text-align: right;\">\n",
       "      <th></th>\n",
       "      <th>Book</th>\n",
       "      <th>Author(s)</th>\n",
       "      <th>Original language</th>\n",
       "      <th>No. of installments</th>\n",
       "      <th>First published</th>\n",
       "      <th>Approximate sales</th>\n",
       "      <th>Genre</th>\n",
       "      <th>Book type</th>\n",
       "      <th>Last published</th>\n",
       "    </tr>\n",
       "  </thead>\n",
       "  <tbody>\n",
       "    <tr>\n",
       "      <th>107</th>\n",
       "      <td>Matilda</td>\n",
       "      <td>Roald Dahl</td>\n",
       "      <td>English</td>\n",
       "      <td>None</td>\n",
       "      <td>1988</td>\n",
       "      <td>17.0</td>\n",
       "      <td>Children's Literature</td>\n",
       "      <td>Individual</td>\n",
       "      <td>None</td>\n",
       "    </tr>\n",
       "    <tr>\n",
       "      <th>276</th>\n",
       "      <td>Rainbow Magic</td>\n",
       "      <td>Daisy Meadows</td>\n",
       "      <td>English</td>\n",
       "      <td>80+</td>\n",
       "      <td>2003</td>\n",
       "      <td>20.0</td>\n",
       "      <td>None</td>\n",
       "      <td>Series</td>\n",
       "      <td>present</td>\n",
       "    </tr>\n",
       "    <tr>\n",
       "      <th>171</th>\n",
       "      <td>The Story of My Experiments with Truth (સત્યના...</td>\n",
       "      <td>Mohandas Karamchand Gandhi</td>\n",
       "      <td>Gujarati</td>\n",
       "      <td>None</td>\n",
       "      <td>1925</td>\n",
       "      <td>10.0</td>\n",
       "      <td></td>\n",
       "      <td>Individual</td>\n",
       "      <td>1929</td>\n",
       "    </tr>\n",
       "    <tr>\n",
       "      <th>305</th>\n",
       "      <td>Roget's Thesaurus</td>\n",
       "      <td>Peter Mark Roget</td>\n",
       "      <td>English</td>\n",
       "      <td>None</td>\n",
       "      <td>1852</td>\n",
       "      <td>40.0</td>\n",
       "      <td>None</td>\n",
       "      <td>Regularly Updated</td>\n",
       "      <td></td>\n",
       "    </tr>\n",
       "    <tr>\n",
       "      <th>161</th>\n",
       "      <td>The Dukan Diet</td>\n",
       "      <td>Pierre Dukan</td>\n",
       "      <td>French</td>\n",
       "      <td>None</td>\n",
       "      <td>2000</td>\n",
       "      <td>10.0</td>\n",
       "      <td></td>\n",
       "      <td>Individual</td>\n",
       "      <td>None</td>\n",
       "    </tr>\n",
       "    <tr>\n",
       "      <th>99</th>\n",
       "      <td>Where the Wild Things Are</td>\n",
       "      <td>Maurice Sendak</td>\n",
       "      <td>English</td>\n",
       "      <td>None</td>\n",
       "      <td>1963</td>\n",
       "      <td>20.0</td>\n",
       "      <td>Children's picture book</td>\n",
       "      <td>Individual</td>\n",
       "      <td>None</td>\n",
       "    </tr>\n",
       "    <tr>\n",
       "      <th>77</th>\n",
       "      <td>Love Story</td>\n",
       "      <td>Erich Segal</td>\n",
       "      <td>English</td>\n",
       "      <td>None</td>\n",
       "      <td>1970</td>\n",
       "      <td>21.0</td>\n",
       "      <td>Romance novel</td>\n",
       "      <td>Individual</td>\n",
       "      <td>None</td>\n",
       "    </tr>\n",
       "    <tr>\n",
       "      <th>131</th>\n",
       "      <td>The Old Man and the Sea</td>\n",
       "      <td>Ernest Hemingway</td>\n",
       "      <td>English</td>\n",
       "      <td>None</td>\n",
       "      <td>1952</td>\n",
       "      <td>13.0</td>\n",
       "      <td>None</td>\n",
       "      <td>Individual</td>\n",
       "      <td>None</td>\n",
       "    </tr>\n",
       "    <tr>\n",
       "      <th>71</th>\n",
       "      <td>The Celestine Prophecy</td>\n",
       "      <td>James Redfield</td>\n",
       "      <td>English</td>\n",
       "      <td>None</td>\n",
       "      <td>1993</td>\n",
       "      <td>23.0</td>\n",
       "      <td>New-age spiritual novel</td>\n",
       "      <td>Individual</td>\n",
       "      <td>None</td>\n",
       "    </tr>\n",
       "    <tr>\n",
       "      <th>155</th>\n",
       "      <td>Night (Un di Velt Hot Geshvign)</td>\n",
       "      <td>Elie Wiesel</td>\n",
       "      <td>Yiddish</td>\n",
       "      <td>None</td>\n",
       "      <td>1958</td>\n",
       "      <td>10.0</td>\n",
       "      <td></td>\n",
       "      <td>Individual</td>\n",
       "      <td>None</td>\n",
       "    </tr>\n",
       "    <tr>\n",
       "      <th>269</th>\n",
       "      <td>Maisy</td>\n",
       "      <td>Lucy Cousins</td>\n",
       "      <td>English</td>\n",
       "      <td>23</td>\n",
       "      <td>1990</td>\n",
       "      <td>20.0</td>\n",
       "      <td>None</td>\n",
       "      <td>Series</td>\n",
       "      <td>present</td>\n",
       "    </tr>\n",
       "    <tr>\n",
       "      <th>103</th>\n",
       "      <td>Dune</td>\n",
       "      <td>Frank Herbert</td>\n",
       "      <td>English</td>\n",
       "      <td>None</td>\n",
       "      <td>1965</td>\n",
       "      <td>20.0</td>\n",
       "      <td>Science fiction novel</td>\n",
       "      <td>Individual</td>\n",
       "      <td>None</td>\n",
       "    </tr>\n",
       "    <tr>\n",
       "      <th>15</th>\n",
       "      <td>Harry Potter and the Deathly Hallows</td>\n",
       "      <td>J. K. Rowling</td>\n",
       "      <td>English</td>\n",
       "      <td>None</td>\n",
       "      <td>2007</td>\n",
       "      <td>65.0</td>\n",
       "      <td>Fantasy</td>\n",
       "      <td>Individual</td>\n",
       "      <td>None</td>\n",
       "    </tr>\n",
       "    <tr>\n",
       "      <th>170</th>\n",
       "      <td>Angela's Ashes</td>\n",
       "      <td>Frank McCourt</td>\n",
       "      <td>English</td>\n",
       "      <td>None</td>\n",
       "      <td>1996</td>\n",
       "      <td>10.0</td>\n",
       "      <td></td>\n",
       "      <td>Individual</td>\n",
       "      <td>None</td>\n",
       "    </tr>\n",
       "    <tr>\n",
       "      <th>293</th>\n",
       "      <td>The Riftwar Cycle</td>\n",
       "      <td>Raymond E. Feist</td>\n",
       "      <td>English</td>\n",
       "      <td>25</td>\n",
       "      <td>1982</td>\n",
       "      <td>15.0</td>\n",
       "      <td>None</td>\n",
       "      <td>Series</td>\n",
       "      <td>present</td>\n",
       "    </tr>\n",
       "    <tr>\n",
       "      <th>280</th>\n",
       "      <td>涼宮ハルヒシリーズ (Haruhi Suzumiya Series)</td>\n",
       "      <td>Nagaru Tanigawa</td>\n",
       "      <td>Japanese</td>\n",
       "      <td>11</td>\n",
       "      <td>2003</td>\n",
       "      <td>20.0</td>\n",
       "      <td>None</td>\n",
       "      <td>Series</td>\n",
       "      <td>present</td>\n",
       "    </tr>\n",
       "    <tr>\n",
       "      <th>279</th>\n",
       "      <td>Doc Savage</td>\n",
       "      <td>Lester Dent, various authors</td>\n",
       "      <td>English</td>\n",
       "      <td>203</td>\n",
       "      <td>1933</td>\n",
       "      <td>20.0</td>\n",
       "      <td>None</td>\n",
       "      <td>Series</td>\n",
       "      <td>present</td>\n",
       "    </tr>\n",
       "    <tr>\n",
       "      <th>246</th>\n",
       "      <td>徳川家康 (Tokugawa Ieyasu)</td>\n",
       "      <td>Sōhachi Yamaoka</td>\n",
       "      <td>Japanese</td>\n",
       "      <td>26</td>\n",
       "      <td>1950</td>\n",
       "      <td>30.0</td>\n",
       "      <td>None</td>\n",
       "      <td>Series</td>\n",
       "      <td>1967</td>\n",
       "    </tr>\n",
       "    <tr>\n",
       "      <th>30</th>\n",
       "      <td>The Hite Report</td>\n",
       "      <td>Shere Hite</td>\n",
       "      <td>English</td>\n",
       "      <td>None</td>\n",
       "      <td>1976</td>\n",
       "      <td>50.0</td>\n",
       "      <td>Sexology</td>\n",
       "      <td>Individual</td>\n",
       "      <td>None</td>\n",
       "    </tr>\n",
       "    <tr>\n",
       "      <th>273</th>\n",
       "      <td>スレイヤーズ (Slayers)</td>\n",
       "      <td>Hajime Kanzaka</td>\n",
       "      <td>Japanese</td>\n",
       "      <td>50</td>\n",
       "      <td>1989</td>\n",
       "      <td>20.0</td>\n",
       "      <td>None</td>\n",
       "      <td>Series</td>\n",
       "      <td>present</td>\n",
       "    </tr>\n",
       "  </tbody>\n",
       "</table>\n",
       "</div>"
      ],
      "text/plain": [
       "                                                  Book  \\\n",
       "107                                            Matilda   \n",
       "276                                      Rainbow Magic   \n",
       "171  The Story of My Experiments with Truth (સત્યના...   \n",
       "305                                  Roget's Thesaurus   \n",
       "161                                     The Dukan Diet   \n",
       "99                           Where the Wild Things Are   \n",
       "77                                          Love Story   \n",
       "131                            The Old Man and the Sea   \n",
       "71                              The Celestine Prophecy   \n",
       "155                    Night (Un di Velt Hot Geshvign)   \n",
       "269                                              Maisy   \n",
       "103                                               Dune   \n",
       "15                Harry Potter and the Deathly Hallows   \n",
       "170                                     Angela's Ashes   \n",
       "293                                  The Riftwar Cycle   \n",
       "280                 涼宮ハルヒシリーズ (Haruhi Suzumiya Series)   \n",
       "279                                         Doc Savage   \n",
       "246                             徳川家康 (Tokugawa Ieyasu)   \n",
       "30                                     The Hite Report   \n",
       "273                                   スレイヤーズ (Slayers)   \n",
       "\n",
       "                        Author(s) Original language No. of installments  \\\n",
       "107                    Roald Dahl           English                None   \n",
       "276                 Daisy Meadows           English                 80+   \n",
       "171    Mohandas Karamchand Gandhi          Gujarati                None   \n",
       "305              Peter Mark Roget           English                None   \n",
       "161                  Pierre Dukan            French                None   \n",
       "99                 Maurice Sendak           English                None   \n",
       "77                    Erich Segal           English                None   \n",
       "131              Ernest Hemingway           English                None   \n",
       "71                 James Redfield           English                None   \n",
       "155                   Elie Wiesel           Yiddish                None   \n",
       "269                  Lucy Cousins           English                  23   \n",
       "103                 Frank Herbert           English                None   \n",
       "15                  J. K. Rowling           English                None   \n",
       "170                 Frank McCourt           English                None   \n",
       "293              Raymond E. Feist           English                  25   \n",
       "280               Nagaru Tanigawa          Japanese                  11   \n",
       "279  Lester Dent, various authors           English                 203   \n",
       "246               Sōhachi Yamaoka          Japanese                  26   \n",
       "30                     Shere Hite           English                None   \n",
       "273                Hajime Kanzaka          Japanese                  50   \n",
       "\n",
       "    First published  Approximate sales                    Genre  \\\n",
       "107            1988               17.0    Children's Literature   \n",
       "276            2003               20.0                     None   \n",
       "171            1925               10.0                            \n",
       "305            1852               40.0                     None   \n",
       "161            2000               10.0                            \n",
       "99             1963               20.0  Children's picture book   \n",
       "77             1970               21.0            Romance novel   \n",
       "131            1952               13.0                     None   \n",
       "71             1993               23.0  New-age spiritual novel   \n",
       "155            1958               10.0                            \n",
       "269            1990               20.0                     None   \n",
       "103            1965               20.0    Science fiction novel   \n",
       "15             2007               65.0                  Fantasy   \n",
       "170            1996               10.0                            \n",
       "293            1982               15.0                     None   \n",
       "280            2003               20.0                     None   \n",
       "279            1933               20.0                     None   \n",
       "246            1950               30.0                     None   \n",
       "30             1976               50.0                 Sexology   \n",
       "273            1989               20.0                     None   \n",
       "\n",
       "             Book type Last published  \n",
       "107         Individual           None  \n",
       "276             Series        present  \n",
       "171         Individual           1929  \n",
       "305  Regularly Updated                 \n",
       "161         Individual           None  \n",
       "99          Individual           None  \n",
       "77          Individual           None  \n",
       "131         Individual           None  \n",
       "71          Individual           None  \n",
       "155         Individual           None  \n",
       "269             Series        present  \n",
       "103         Individual           None  \n",
       "15          Individual           None  \n",
       "170         Individual           None  \n",
       "293             Series        present  \n",
       "280             Series        present  \n",
       "279             Series        present  \n",
       "246             Series           1967  \n",
       "30          Individual           None  \n",
       "273             Series        present  "
      ]
     },
     "execution_count": 413,
     "metadata": {},
     "output_type": "execute_result"
    }
   ],
   "source": [
    "books_df.sample(20)"
   ]
  },
  {
   "cell_type": "code",
   "execution_count": null,
   "id": "2ea9693e",
   "metadata": {},
   "outputs": [],
   "source": []
  }
 ],
 "metadata": {
  "kernelspec": {
   "display_name": "Python 3 (ipykernel)",
   "language": "python",
   "name": "python3"
  },
  "language_info": {
   "codemirror_mode": {
    "name": "ipython",
    "version": 3
   },
   "file_extension": ".py",
   "mimetype": "text/x-python",
   "name": "python",
   "nbconvert_exporter": "python",
   "pygments_lexer": "ipython3",
   "version": "3.9.7"
  }
 },
 "nbformat": 4,
 "nbformat_minor": 5
}
